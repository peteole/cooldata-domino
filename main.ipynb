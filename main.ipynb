{
 "cells": [
  {
   "cell_type": "code",
   "execution_count": 1,
   "id": "e8ae493a",
   "metadata": {},
   "outputs": [],
   "source": [
    "%load_ext autoreload\n",
    "%autoreload 2"
   ]
  },
  {
   "cell_type": "code",
   "execution_count": 2,
   "id": "eb04cf9e",
   "metadata": {},
   "outputs": [],
   "source": [
    "import pyvista as pv\n",
    "pv.set_jupyter_backend(\"static\")"
   ]
  },
  {
   "cell_type": "code",
   "execution_count": 9,
   "id": "90cd2cf3",
   "metadata": {},
   "outputs": [
    {
     "name": "stdout",
     "output_type": "stream",
     "text": [
      "Loaded 3 samples from '/workspace/physicsnemo/domino/data'.\n",
      "Loaded 3 samples from 'data'.\n"
     ]
    }
   ],
   "source": [
    "from src.cooldata_datapipe import CoolDataset\n",
    "ds = CoolDataset(\n",
    "    \"data\",\n",
    "    \"processed_data\",\n",
    "    model_type=\"combined\"\n",
    ")"
   ]
  },
  {
   "cell_type": "code",
   "execution_count": 8,
   "id": "9cf4ab1e",
   "metadata": {},
   "outputs": [
    {
     "data": {
      "text/html": [
       "<table style='width: 100%;'><tr><th>Header</th><th>Data Arrays</th></tr><tr><td>\n",
       "<table style='width: 100%;'>\n",
       "<tr><th>UnstructuredGrid</th><th>Information</th></tr>\n",
       "<tr><td>N Cells</td><td>2004</td></tr>\n",
       "<tr><td>N Points</td><td>1042</td></tr>\n",
       "<tr><td>X Bounds</td><td>8.316e-02, 1.167e-01</td></tr>\n",
       "<tr><td>Y Bounds</td><td>9.825e-03, 4.827e-02</td></tr>\n",
       "<tr><td>Z Bounds</td><td>0.000e+00, 1.500e-02</td></tr>\n",
       "<tr><td>N Arrays</td><td>12</td></tr>\n",
       "</table>\n",
       "\n",
       "</td><td>\n",
       "<table style='width: 100%;'>\n",
       "<tr><th>Name</th><th>Field</th><th>Type</th><th>N Comp</th><th>Min</th><th>Max</th></tr>\n",
       "<tr><td>AreaMagnitude</td><td>Cells</td><td>float64</td><td>1</td><td>9.486e-07</td><td>3.866e-06</td></tr>\n",
       "<tr><td>HeatTransferCoefficient</td><td>Cells</td><td>float64</td><td>1</td><td>5.544e+00</td><td>4.480e+02</td></tr>\n",
       "<tr><td>Normal_0</td><td>Cells</td><td>float64</td><td>1</td><td>-1.000e+00</td><td>1.000e+00</td></tr>\n",
       "<tr><td>Normal_1</td><td>Cells</td><td>float64</td><td>1</td><td>-1.000e+00</td><td>1.000e+00</td></tr>\n",
       "<tr><td>Normal_2</td><td>Cells</td><td>float64</td><td>1</td><td>-1.000e+00</td><td>2.776e-14</td></tr>\n",
       "<tr><td>Pressure</td><td>Cells</td><td>float64</td><td>1</td><td>-1.881e+01</td><td>2.662e-01</td></tr>\n",
       "<tr><td>Temperature</td><td>Cells</td><td>float64</td><td>1</td><td>2.945e+02</td><td>2.945e+02</td></tr>\n",
       "<tr><td>WallShearStress_0</td><td>Cells</td><td>float64</td><td>1</td><td>-1.401e-01</td><td>4.478e-01</td></tr>\n",
       "<tr><td>WallShearStress_1</td><td>Cells</td><td>float64</td><td>1</td><td>-2.770e-01</td><td>3.552e-01</td></tr>\n",
       "<tr><td>WallShearStress_2</td><td>Cells</td><td>float64</td><td>1</td><td>-3.694e-01</td><td>2.998e-01</td></tr>\n",
       "<tr><td>Base/Zone</td><td>Fields</td><td><U16</td><td>1</td><td>nan</td><td>nan</td></tr>\n",
       "<tr><td>ispatch</td><td>Fields</td><td>int32</td><td>1</td><td>0.000e+00</td><td>0.000e+00</td></tr>\n",
       "</table>\n",
       "\n",
       "</td></tr> </table>"
      ],
      "text/plain": [
       "UnstructuredGrid (0x7f0fbcf7f5e0)\n",
       "  N Cells:    2004\n",
       "  N Points:   1042\n",
       "  X Bounds:   8.316e-02, 1.167e-01\n",
       "  Y Bounds:   9.825e-03, 4.827e-02\n",
       "  Z Bounds:   0.000e+00, 1.500e-02\n",
       "  N Arrays:   12"
      ]
     },
     "execution_count": 8,
     "metadata": {},
     "output_type": "execute_result"
    }
   ],
   "source": [
    "ds.pv_ds[0].surface_data[0][1].triangulate()"
   ]
  },
  {
   "cell_type": "code",
   "execution_count": 5,
   "id": "1022894e",
   "metadata": {},
   "outputs": [
    {
     "data": {
      "text/plain": [
       "set()"
      ]
     },
     "execution_count": 5,
     "metadata": {},
     "output_type": "execute_result"
    }
   ],
   "source": [
    "set(ds.pv_ds[0].surface_data[0][0].cell_data.keys())-set(ds.pv_ds[0].surface_data[0][1].cell_data.keys())"
   ]
  },
  {
   "cell_type": "code",
   "execution_count": 6,
   "id": "274fbf73",
   "metadata": {},
   "outputs": [
    {
     "data": {
      "text/plain": [
       "['AreaMagnitude',\n",
       " 'HeatTransferCoefficient',\n",
       " 'Normal_0',\n",
       " 'Normal_1',\n",
       " 'Normal_2',\n",
       " 'Pressure',\n",
       " 'Temperature',\n",
       " 'WallShearStress_0',\n",
       " 'WallShearStress_1',\n",
       " 'WallShearStress_2']"
      ]
     },
     "execution_count": 6,
     "metadata": {},
     "output_type": "execute_result"
    }
   ],
   "source": [
    "ds.pv_ds[0].surface_data[0][1].cell_data.keys()"
   ]
  },
  {
   "cell_type": "code",
   "execution_count": 7,
   "id": "e4eb4d9c",
   "metadata": {},
   "outputs": [],
   "source": [
    "import pyvista as pv\n",
    "pv.OFF_SCREEN = True"
   ]
  },
  {
   "cell_type": "code",
   "execution_count": 8,
   "id": "18ba218e",
   "metadata": {},
   "outputs": [
    {
     "data": {
      "text/plain": [
       "array([    3,     0,     1, ..., 36774, 36777, 36776])"
      ]
     },
     "execution_count": 8,
     "metadata": {},
     "output_type": "execute_result"
    }
   ],
   "source": [
    "\n",
    "ds.pv_ds[0].surface_data[0].combine().extract_surface().triangulate().faces"
   ]
  },
  {
   "cell_type": "code",
   "execution_count": 9,
   "id": "c21ee74e",
   "metadata": {},
   "outputs": [
    {
     "name": "stderr",
     "output_type": "stream",
     "text": [
      "\u001b[0m\u001b[33m2025-09-25 23:32:32.307 (   4.723s) [    7F7861E51300]      vtkCGNSReader.cxx:4267  WARN| vtkCGNSReader (0xc621540): Skipping BC_t node: BC_t type 'BCInflow' not supported yet.\u001b[0m\n",
      "\u001b[0m\u001b[33m2025-09-25 23:32:32.307 (   4.723s) [    7F7861E51300]      vtkCGNSReader.cxx:4267  WARN| vtkCGNSReader (0xc621540): Skipping BC_t node: BC_t type 'BCSymmetryPlane' not supported yet.\u001b[0m\n",
      "\u001b[0m\u001b[33m2025-09-25 23:32:32.307 (   4.723s) [    7F7861E51300]      vtkCGNSReader.cxx:4267  WARN| vtkCGNSReader (0xc621540): Skipping BC_t node: BC_t type 'BCTunnelOutflow' not supported yet.\u001b[0m\n"
     ]
    },
    {
     "data": {
      "text/html": [
       "<table style='width: 100%;'><tr><th>Header</th><th>Data Arrays</th></tr><tr><td>\n",
       "<table style='width: 100%;'>\n",
       "<tr><th>UnstructuredGrid</th><th>Information</th></tr>\n",
       "<tr><td>N Cells</td><td>192498</td></tr>\n",
       "<tr><td>N Points</td><td>210573</td></tr>\n",
       "<tr><td>X Bounds</td><td>-4.337e-19, 5.000e-01</td></tr>\n",
       "<tr><td>Y Bounds</td><td>-4.337e-19, 1.000e-01</td></tr>\n",
       "<tr><td>Z Bounds</td><td>0.000e+00, 2.000e-02</td></tr>\n",
       "<tr><td>N Arrays</td><td>10</td></tr>\n",
       "</table>\n",
       "\n",
       "</td><td>\n",
       "<table style='width: 100%;'>\n",
       "<tr><th>Name</th><th>Field</th><th>Type</th><th>N Comp</th><th>Min</th><th>Max</th></tr>\n",
       "<tr><td>Pressure</td><td>Cells</td><td>float64</td><td>1</td><td>-2.459e+01</td><td>5.238e+00</td></tr>\n",
       "<tr><td>Temperature</td><td>Cells</td><td>float64</td><td>1</td><td>2.930e+02</td><td>3.306e+02</td></tr>\n",
       "<tr><td>TurbulentDissipationRate</td><td>Cells</td><td>float64</td><td>1</td><td>5.175e-08</td><td>1.393e+04</td></tr>\n",
       "<tr><td>TurbulentKineticEnergy</td><td>Cells</td><td>float64</td><td>1</td><td>1.000e-10</td><td>3.601e+00</td></tr>\n",
       "<tr><td>Velocity_0</td><td>Cells</td><td>float64</td><td>1</td><td>-2.228e+00</td><td>8.052e+00</td></tr>\n",
       "<tr><td>Velocity_1</td><td>Cells</td><td>float64</td><td>1</td><td>-1.881e+00</td><td>2.004e+00</td></tr>\n",
       "<tr><td>Velocity_2</td><td>Cells</td><td>float64</td><td>1</td><td>-3.081e+00</td><td>2.064e+00</td></tr>\n",
       "<tr><td>Volume</td><td>Cells</td><td>float64</td><td>1</td><td>9.699e-11</td><td>9.377e-09</td></tr>\n",
       "<tr><td>Base/Zone</td><td>Fields</td><td><U9</td><td>1</td><td>nan</td><td>nan</td></tr>\n",
       "<tr><td>ispatch</td><td>Fields</td><td>int32</td><td>1</td><td>0.000e+00</td><td>0.000e+00</td></tr>\n",
       "</table>\n",
       "\n",
       "</td></tr> </table>"
      ],
      "text/plain": [
       "UnstructuredGrid (0x7f7659627ee0)\n",
       "  N Cells:    192498\n",
       "  N Points:   210573\n",
       "  X Bounds:   -4.337e-19, 5.000e-01\n",
       "  Y Bounds:   -4.337e-19, 1.000e-01\n",
       "  Z Bounds:   0.000e+00, 2.000e-02\n",
       "  N Arrays:   10"
      ]
     },
     "execution_count": 9,
     "metadata": {},
     "output_type": "execute_result"
    }
   ],
   "source": [
    "ds.pv_ds[0].volume_data[0][0][0]"
   ]
  },
  {
   "cell_type": "code",
   "execution_count": 18,
   "id": "6f765842",
   "metadata": {},
   "outputs": [
    {
     "name": "stdout",
     "output_type": "stream",
     "text": [
      "Pressure -1.544998307849948 +- 3.0063113037178675\n",
      "Temperature 295.36759523303084 +- 4.23042755624516\n",
      "TurbulentDissipationRate 116.08707537973582 +- 404.93698291441973\n",
      "TurbulentKineticEnergy 0.2603065127534064 +- 0.3090265740014766\n",
      "Velocity_0 3.489645771210863 +- 2.3901881399189144\n",
      "Velocity_1 -0.043039742466142776 +- 0.17384784104159856\n",
      "Velocity_2 -0.012050845542181141 +- 0.1339223298158478\n",
      "Volume 4.759070702091564e-09 +- 3.1942679282291036e-09\n"
     ]
    }
   ],
   "source": [
    "volume_data=ds.pv_ds[0].volume_data[0][0][0]\n",
    "for key in volume_data.cell_data.keys():\n",
    "    print(key, volume_data.cell_data[key].mean(),\"+-\" ,volume_data.cell_data[key].std())"
   ]
  },
  {
   "cell_type": "code",
   "execution_count": null,
   "id": "88099c90",
   "metadata": {},
   "outputs": [],
   "source": [
    "ds.pv_ds"
   ]
  },
  {
   "cell_type": "code",
   "execution_count": 12,
   "id": "ea6a7c4b",
   "metadata": {},
   "outputs": [
    {
     "data": {
      "text/plain": [
       "{'stl_coordinates': pyvista_ndarray([[2.1388140e-03, 1.0000000e-01, 0.0000000e+00],\n",
       "                  [2.1388140e-03, 9.7628944e-02, 0.0000000e+00],\n",
       "                  [6.5803258e-20, 9.7628944e-02, 0.0000000e+00],\n",
       "                  ...,\n",
       "                  [5.0000000e-01, 0.0000000e+00, 2.1052633e-04],\n",
       "                  [5.0000000e-01, 2.0000001e-03, 0.0000000e+00],\n",
       "                  [5.0000000e-01, 0.0000000e+00, 0.0000000e+00]],\n",
       "                 dtype=float32),\n",
       " 'stl_centers': array([[1.4258759e-03, 9.9209651e-02, 0.0000000e+00],\n",
       "        [7.1293797e-04, 9.8419301e-02, 0.0000000e+00],\n",
       "        [3.5646900e-03, 9.8419301e-02, 0.0000000e+00],\n",
       "        ...,\n",
       "        [5.0000000e-01, 3.3333334e-03, 1.4035088e-04],\n",
       "        [5.0000000e-01, 1.3333333e-03, 1.4035088e-04],\n",
       "        [5.0000000e-01, 6.6666666e-04, 7.0175440e-05]], dtype=float32),\n",
       " 'stl_faces': array([0.0000e+00, 1.0000e+00, 3.0000e+00, ..., 3.7368e+04, 3.7370e+04,\n",
       "        3.7369e+04], dtype=float32),\n",
       " 'stl_areas': array([2.5356208e-06, 2.5356208e-06, 2.5356208e-06, ..., 2.1052632e-07,\n",
       "        2.1052632e-07, 2.1052632e-07], dtype=float32),\n",
       " 'surface_mesh_centers': array([[1.4258759e-03, 9.9209651e-02, 0.0000000e+00],\n",
       "        [7.1293797e-04, 9.8419301e-02, 0.0000000e+00],\n",
       "        [3.5646900e-03, 9.8419301e-02, 0.0000000e+00],\n",
       "        ...,\n",
       "        [5.0000000e-01, 3.3333334e-03, 1.4035088e-04],\n",
       "        [5.0000000e-01, 1.3333333e-03, 1.4035088e-04],\n",
       "        [5.0000000e-01, 6.6666666e-04, 7.0175440e-05]], dtype=float32),\n",
       " 'surface_normals': array([[ 0.,  0., -1.],\n",
       "        [ 0.,  0., -1.],\n",
       "        [ 0.,  0., -1.],\n",
       "        ...,\n",
       "        [ 1.,  0.,  0.],\n",
       "        [ 1.,  0.,  0.],\n",
       "        [ 1.,  0.,  0.]], dtype=float32),\n",
       " 'surface_areas': array([2.5356208e-06, 2.5356208e-06, 2.5356208e-06, ..., 2.1052632e-07,\n",
       "        2.1052632e-07, 2.1052632e-07], dtype=float32),\n",
       " 'volume_fields': array([[-3.7003249e-01,  3.2575729e+00, -9.9981672e-01,  8.5130908e-02,\n",
       "          1.4838271e+00],\n",
       "        [-3.7004089e-01,  3.2708344e+00, -9.9254620e-01,  6.9729678e-02,\n",
       "          1.1706778e+00],\n",
       "        [-3.7001497e-01,  3.2549210e+00, -1.0041571e+00,  2.9355943e-02,\n",
       "          1.5014813e+00],\n",
       "        ...,\n",
       "        [-3.3414307e-01,  1.9697803e-04, -1.7090032e+00,  4.3324515e-04,\n",
       "         -6.8287945e-06],\n",
       "        [-3.3775634e-01,  3.9071933e-04, -1.7088960e+00,  2.3511749e-04,\n",
       "         -2.0846919e-05],\n",
       "        [-3.3756104e-01,  1.9602958e-04, -1.7088909e+00,  2.0662826e-04,\n",
       "         -9.9288991e-06]], dtype=float32),\n",
       " 'volume_mesh_centers': array([[0.002, 0.098, 0.001],\n",
       "        [0.   , 0.098, 0.001],\n",
       "        [0.002, 0.1  , 0.001],\n",
       "        ...,\n",
       "        [0.5  , 0.002, 0.   ],\n",
       "        [0.498, 0.   , 0.   ],\n",
       "        [0.5  , 0.   , 0.   ]], dtype=float32),\n",
       " 'surface_fields': array([[ 3.3080456e+00, -3.6987305e-01,  0.0000000e+00,  1.4627756e-01,\n",
       "          5.9102015e-03, -1.3254220e-08],\n",
       "        [ 3.3080456e+00, -3.6987305e-01,  0.0000000e+00,  1.4627756e-01,\n",
       "          5.9102015e-03, -1.3254220e-08],\n",
       "        [ 3.2487252e+00, -3.6909789e-01,  0.0000000e+00,  4.7773279e-02,\n",
       "          3.6549170e-03,  0.0000000e+00],\n",
       "        ...,\n",
       "        [ 0.0000000e+00, -3.3072510e-01, -1.2359797e-05,  0.0000000e+00,\n",
       "          0.0000000e+00,  0.0000000e+00],\n",
       "        [ 0.0000000e+00, -3.3756104e-01, -9.5579835e-06,  0.0000000e+00,\n",
       "          0.0000000e+00,  0.0000000e+00],\n",
       "        [ 0.0000000e+00, -3.3756104e-01, -9.5579835e-06,  0.0000000e+00,\n",
       "          0.0000000e+00,  0.0000000e+00]], dtype=float32),\n",
       " 'filename': PosixPath('/workspace/physicsnemo/domino/data/volume/volume_design_0125002_p.cgns'),\n",
       " 'global_params_values': array([4.00e+02, 3.00e+00, 2.95e+02, 5.00e+00, 3.50e+00, 2.00e+00,\n",
       "        2.00e-01, 1.00e-01, 1.00e+00, 1.00e-01, 1.00e-01], dtype=float32),\n",
       " 'global_params_reference': None}"
      ]
     },
     "execution_count": 12,
     "metadata": {},
     "output_type": "execute_result"
    }
   ],
   "source": [
    "ds[0]"
   ]
  }
 ],
 "metadata": {
  "kernelspec": {
   "display_name": "Python 3",
   "language": "python",
   "name": "python3"
  },
  "language_info": {
   "codemirror_mode": {
    "name": "ipython",
    "version": 3
   },
   "file_extension": ".py",
   "mimetype": "text/x-python",
   "name": "python",
   "nbconvert_exporter": "python",
   "pygments_lexer": "ipython3",
   "version": "3.12.3"
  }
 },
 "nbformat": 4,
 "nbformat_minor": 5
}
