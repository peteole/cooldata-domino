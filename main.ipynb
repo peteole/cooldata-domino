{
 "cells": [
  {
   "cell_type": "code",
   "execution_count": 1,
   "id": "e8ae493a",
   "metadata": {},
   "outputs": [],
   "source": [
    "%load_ext autoreload\n",
    "%autoreload 2"
   ]
  },
  {
   "cell_type": "code",
   "execution_count": 2,
   "id": "eb04cf9e",
   "metadata": {},
   "outputs": [],
   "source": [
    "import pyvista as pv\n",
    "pv.set_jupyter_backend(\"static\")"
   ]
  },
  {
   "cell_type": "code",
   "execution_count": 12,
   "id": "90cd2cf3",
   "metadata": {},
   "outputs": [
    {
     "name": "stdout",
     "output_type": "stream",
     "text": [
      "Loaded 3 samples from '/workspace/physicsnemo/domino/data'.\n",
      "Loaded 3 samples from 'data'.\n"
     ]
    }
   ],
   "source": [
    "from src.cooldata_datapipe import CoolDataset\n",
    "ds = CoolDataset(\n",
    "    \"data\",\n",
    "    \"processed_data\",\n",
    "    model_type=\"combined\"\n",
    ")"
   ]
  },
  {
   "cell_type": "code",
   "execution_count": 4,
   "id": "9cf4ab1e",
   "metadata": {},
   "outputs": [
    {
     "data": {
      "text/html": [
       "<table style='width: 100%;'><tr><th>Header</th><th>Data Arrays</th></tr><tr><td>\n",
       "<table style='width: 100%;'>\n",
       "<tr><th>UnstructuredGrid</th><th>Information</th></tr>\n",
       "<tr><td>N Cells</td><td>47204</td></tr>\n",
       "<tr><td>N Points</td><td>24242</td></tr>\n",
       "<tr><td>X Bounds</td><td>0.000e+00, 5.000e-01</td></tr>\n",
       "<tr><td>Y Bounds</td><td>0.000e+00, 1.000e-01</td></tr>\n",
       "<tr><td>Z Bounds</td><td>0.000e+00, 2.000e-02</td></tr>\n",
       "<tr><td>N Arrays</td><td>12</td></tr>\n",
       "</table>\n",
       "\n",
       "</td><td>\n",
       "<table style='width: 100%;'>\n",
       "<tr><th>Name</th><th>Field</th><th>Type</th><th>N Comp</th><th>Min</th><th>Max</th></tr>\n",
       "<tr><td>AreaMagnitude</td><td>Cells</td><td>float64</td><td>1</td><td>6.955e-07</td><td>4.998e-06</td></tr>\n",
       "<tr><td>HeatTransferCoefficient</td><td>Cells</td><td>float64</td><td>1</td><td>0.000e+00</td><td>0.000e+00</td></tr>\n",
       "<tr><td>Normal_0</td><td>Cells</td><td>float64</td><td>1</td><td>-5.204e-15</td><td>4.337e-15</td></tr>\n",
       "<tr><td>Normal_1</td><td>Cells</td><td>float64</td><td>1</td><td>-3.469e-15</td><td>5.204e-15</td></tr>\n",
       "<tr><td>Normal_2</td><td>Cells</td><td>float64</td><td>1</td><td>-1.000e+00</td><td>1.000e+00</td></tr>\n",
       "<tr><td>Pressure</td><td>Cells</td><td>float64</td><td>1</td><td>-9.496e+00</td><td>5.269e+00</td></tr>\n",
       "<tr><td>Temperature</td><td>Cells</td><td>float64</td><td>1</td><td>2.932e+02</td><td>3.255e+02</td></tr>\n",
       "<tr><td>WallShearStress_0</td><td>Cells</td><td>float64</td><td>1</td><td>-1.174e-01</td><td>1.139e+00</td></tr>\n",
       "<tr><td>WallShearStress_1</td><td>Cells</td><td>float64</td><td>1</td><td>-2.031e-01</td><td>8.956e-02</td></tr>\n",
       "<tr><td>WallShearStress_2</td><td>Cells</td><td>float64</td><td>1</td><td>-2.758e-09</td><td>2.773e-09</td></tr>\n",
       "<tr><td>Base/Zone</td><td>Fields</td><td><U14</td><td>1</td><td>nan</td><td>nan</td></tr>\n",
       "<tr><td>ispatch</td><td>Fields</td><td>int32</td><td>1</td><td>0.000e+00</td><td>0.000e+00</td></tr>\n",
       "</table>\n",
       "\n",
       "</td></tr> </table>"
      ],
      "text/plain": [
       "UnstructuredGrid (0x7f759f984ca0)\n",
       "  N Cells:    47204\n",
       "  N Points:   24242\n",
       "  X Bounds:   0.000e+00, 5.000e-01\n",
       "  Y Bounds:   0.000e+00, 1.000e-01\n",
       "  Z Bounds:   0.000e+00, 2.000e-02\n",
       "  N Arrays:   12"
      ]
     },
     "execution_count": 4,
     "metadata": {},
     "output_type": "execute_result"
    }
   ],
   "source": [
    "ds.pv_ds[0].surface_data[0][0].triangulate()"
   ]
  },
  {
   "cell_type": "code",
   "execution_count": 5,
   "id": "1022894e",
   "metadata": {},
   "outputs": [
    {
     "data": {
      "text/plain": [
       "set()"
      ]
     },
     "execution_count": 5,
     "metadata": {},
     "output_type": "execute_result"
    }
   ],
   "source": [
    "set(ds.pv_ds[0].surface_data[0][0].cell_data.keys())-set(ds.pv_ds[0].surface_data[0][1].cell_data.keys())"
   ]
  },
  {
   "cell_type": "code",
   "execution_count": 6,
   "id": "274fbf73",
   "metadata": {},
   "outputs": [
    {
     "data": {
      "text/plain": [
       "['AreaMagnitude',\n",
       " 'HeatTransferCoefficient',\n",
       " 'Normal_0',\n",
       " 'Normal_1',\n",
       " 'Normal_2',\n",
       " 'Pressure',\n",
       " 'Temperature',\n",
       " 'WallShearStress_0',\n",
       " 'WallShearStress_1',\n",
       " 'WallShearStress_2']"
      ]
     },
     "execution_count": 6,
     "metadata": {},
     "output_type": "execute_result"
    }
   ],
   "source": [
    "ds.pv_ds[0].surface_data[0][1].cell_data.keys()"
   ]
  },
  {
   "cell_type": "code",
   "execution_count": 7,
   "id": "e4eb4d9c",
   "metadata": {},
   "outputs": [],
   "source": [
    "import pyvista as pv\n",
    "pv.OFF_SCREEN = True"
   ]
  },
  {
   "cell_type": "code",
   "execution_count": 8,
   "id": "18ba218e",
   "metadata": {},
   "outputs": [
    {
     "data": {
      "text/plain": [
       "array([    3,     0,     1, ..., 36774, 36777, 36776])"
      ]
     },
     "execution_count": 8,
     "metadata": {},
     "output_type": "execute_result"
    }
   ],
   "source": [
    "\n",
    "ds.pv_ds[0].surface_data[0].combine().extract_surface().triangulate().faces"
   ]
  },
  {
   "cell_type": "code",
   "execution_count": 9,
   "id": "c21ee74e",
   "metadata": {},
   "outputs": [
    {
     "name": "stderr",
     "output_type": "stream",
     "text": [
      "\u001b[0m\u001b[33m2025-09-25 23:32:32.307 (   4.723s) [    7F7861E51300]      vtkCGNSReader.cxx:4267  WARN| vtkCGNSReader (0xc621540): Skipping BC_t node: BC_t type 'BCInflow' not supported yet.\u001b[0m\n",
      "\u001b[0m\u001b[33m2025-09-25 23:32:32.307 (   4.723s) [    7F7861E51300]      vtkCGNSReader.cxx:4267  WARN| vtkCGNSReader (0xc621540): Skipping BC_t node: BC_t type 'BCSymmetryPlane' not supported yet.\u001b[0m\n",
      "\u001b[0m\u001b[33m2025-09-25 23:32:32.307 (   4.723s) [    7F7861E51300]      vtkCGNSReader.cxx:4267  WARN| vtkCGNSReader (0xc621540): Skipping BC_t node: BC_t type 'BCTunnelOutflow' not supported yet.\u001b[0m\n"
     ]
    },
    {
     "data": {
      "text/html": [
       "<table style='width: 100%;'><tr><th>Header</th><th>Data Arrays</th></tr><tr><td>\n",
       "<table style='width: 100%;'>\n",
       "<tr><th>UnstructuredGrid</th><th>Information</th></tr>\n",
       "<tr><td>N Cells</td><td>192498</td></tr>\n",
       "<tr><td>N Points</td><td>210573</td></tr>\n",
       "<tr><td>X Bounds</td><td>-4.337e-19, 5.000e-01</td></tr>\n",
       "<tr><td>Y Bounds</td><td>-4.337e-19, 1.000e-01</td></tr>\n",
       "<tr><td>Z Bounds</td><td>0.000e+00, 2.000e-02</td></tr>\n",
       "<tr><td>N Arrays</td><td>10</td></tr>\n",
       "</table>\n",
       "\n",
       "</td><td>\n",
       "<table style='width: 100%;'>\n",
       "<tr><th>Name</th><th>Field</th><th>Type</th><th>N Comp</th><th>Min</th><th>Max</th></tr>\n",
       "<tr><td>Pressure</td><td>Cells</td><td>float64</td><td>1</td><td>-2.459e+01</td><td>5.238e+00</td></tr>\n",
       "<tr><td>Temperature</td><td>Cells</td><td>float64</td><td>1</td><td>2.930e+02</td><td>3.306e+02</td></tr>\n",
       "<tr><td>TurbulentDissipationRate</td><td>Cells</td><td>float64</td><td>1</td><td>5.175e-08</td><td>1.393e+04</td></tr>\n",
       "<tr><td>TurbulentKineticEnergy</td><td>Cells</td><td>float64</td><td>1</td><td>1.000e-10</td><td>3.601e+00</td></tr>\n",
       "<tr><td>Velocity_0</td><td>Cells</td><td>float64</td><td>1</td><td>-2.228e+00</td><td>8.052e+00</td></tr>\n",
       "<tr><td>Velocity_1</td><td>Cells</td><td>float64</td><td>1</td><td>-1.881e+00</td><td>2.004e+00</td></tr>\n",
       "<tr><td>Velocity_2</td><td>Cells</td><td>float64</td><td>1</td><td>-3.081e+00</td><td>2.064e+00</td></tr>\n",
       "<tr><td>Volume</td><td>Cells</td><td>float64</td><td>1</td><td>9.699e-11</td><td>9.377e-09</td></tr>\n",
       "<tr><td>Base/Zone</td><td>Fields</td><td><U9</td><td>1</td><td>nan</td><td>nan</td></tr>\n",
       "<tr><td>ispatch</td><td>Fields</td><td>int32</td><td>1</td><td>0.000e+00</td><td>0.000e+00</td></tr>\n",
       "</table>\n",
       "\n",
       "</td></tr> </table>"
      ],
      "text/plain": [
       "UnstructuredGrid (0x7f7659627ee0)\n",
       "  N Cells:    192498\n",
       "  N Points:   210573\n",
       "  X Bounds:   -4.337e-19, 5.000e-01\n",
       "  Y Bounds:   -4.337e-19, 1.000e-01\n",
       "  Z Bounds:   0.000e+00, 2.000e-02\n",
       "  N Arrays:   10"
      ]
     },
     "execution_count": 9,
     "metadata": {},
     "output_type": "execute_result"
    }
   ],
   "source": [
    "ds.pv_ds[0].volume_data[0][0][0]"
   ]
  },
  {
   "cell_type": "code",
   "execution_count": 18,
   "id": "6f765842",
   "metadata": {},
   "outputs": [
    {
     "name": "stdout",
     "output_type": "stream",
     "text": [
      "Pressure -1.544998307849948 +- 3.0063113037178675\n",
      "Temperature 295.36759523303084 +- 4.23042755624516\n",
      "TurbulentDissipationRate 116.08707537973582 +- 404.93698291441973\n",
      "TurbulentKineticEnergy 0.2603065127534064 +- 0.3090265740014766\n",
      "Velocity_0 3.489645771210863 +- 2.3901881399189144\n",
      "Velocity_1 -0.043039742466142776 +- 0.17384784104159856\n",
      "Velocity_2 -0.012050845542181141 +- 0.1339223298158478\n",
      "Volume 4.759070702091564e-09 +- 3.1942679282291036e-09\n"
     ]
    }
   ],
   "source": [
    "volume_data=ds.pv_ds[0].volume_data[0][0][0]\n",
    "for key in volume_data.cell_data.keys():\n",
    "    print(key, volume_data.cell_data[key].mean(),\"+-\" ,volume_data.cell_data[key].std())"
   ]
  },
  {
   "cell_type": "code",
   "execution_count": null,
   "id": "88099c90",
   "metadata": {},
   "outputs": [],
   "source": [
    "ds.pv_ds"
   ]
  },
  {
   "cell_type": "code",
   "execution_count": 13,
   "id": "ea6a7c4b",
   "metadata": {},
   "outputs": [
    {
     "name": "stderr",
     "output_type": "stream",
     "text": [
      "\u001b[0m\u001b[33m2025-09-25 23:35:05.577 ( 157.993s) [    7F7861E51300]      vtkCGNSReader.cxx:4267  WARN| vtkCGNSReader (0xc105540): Skipping BC_t node: BC_t type 'BCInflow' not supported yet.\u001b[0m\n",
      "\u001b[0m\u001b[33m2025-09-25 23:35:05.577 ( 157.993s) [    7F7861E51300]      vtkCGNSReader.cxx:4267  WARN| vtkCGNSReader (0xc105540): Skipping BC_t node: BC_t type 'BCSymmetryPlane' not supported yet.\u001b[0m\n",
      "\u001b[0m\u001b[33m2025-09-25 23:35:05.577 ( 157.993s) [    7F7861E51300]      vtkCGNSReader.cxx:4267  WARN| vtkCGNSReader (0xc105540): Skipping BC_t node: BC_t type 'BCTunnelOutflow' not supported yet.\u001b[0m\n"
     ]
    },
    {
     "data": {
      "text/plain": [
       "{'stl_coordinates': pyvista_ndarray([[1.98248005e-03, 9.79612917e-02, 0.00000000e+00],\n",
       "                  [1.17913554e-20, 9.79523286e-02, 0.00000000e+00],\n",
       "                  [0.00000000e+00, 1.00000001e-01, 0.00000000e+00],\n",
       "                  ...,\n",
       "                  [5.00000000e-01, 0.00000000e+00, 1.97894741e-02],\n",
       "                  [4.97999996e-01, 0.00000000e+00, 1.99999996e-02],\n",
       "                  [5.00000000e-01, 0.00000000e+00, 1.99999996e-02]],\n",
       "                 dtype=float32),\n",
       " 'stl_centers': array([[0.00066083, 0.09863787, 0.        ],\n",
       "        [0.00132749, 0.09932043, 0.        ],\n",
       "        [0.00332282, 0.09932283, 0.        ],\n",
       "        ...,\n",
       "        [0.49666667, 0.        , 0.01985965],\n",
       "        [0.49933332, 0.        , 0.01985965],\n",
       "        [0.49866667, 0.        , 0.01992982]], dtype=float32),\n",
       " 'stl_faces': array([0.0000e+00, 1.0000e+00, 2.0000e+00, ..., 3.6774e+04, 3.6777e+04,\n",
       "        3.6776e+04], dtype=float32),\n",
       " 'stl_areas': array([2.0297362e-06, 2.0387049e-06, 2.0315319e-06, ..., 2.1052632e-07,\n",
       "        2.1052632e-07, 2.1052632e-07], dtype=float32),\n",
       " 'surface_mesh_centers': array([[0.00066083, 0.09863787, 0.        ],\n",
       "        [0.00132749, 0.09932043, 0.        ],\n",
       "        [0.00332282, 0.09932283, 0.        ],\n",
       "        ...,\n",
       "        [0.49666667, 0.        , 0.01985965],\n",
       "        [0.49933332, 0.        , 0.01985965],\n",
       "        [0.49866667, 0.        , 0.01992982]], dtype=float32),\n",
       " 'surface_normals': array([[ 0.,  0., -1.],\n",
       "        [ 0.,  0., -1.],\n",
       "        [ 0.,  0., -1.],\n",
       "        ...,\n",
       "        [ 0., -1.,  0.],\n",
       "        [ 0., -1.,  0.],\n",
       "        [ 0., -1.,  0.]], dtype=float32),\n",
       " 'surface_areas': array([2.0297362e-06, 2.0387049e-06, 2.0315319e-06, ..., 2.1052632e-07,\n",
       "        2.1052632e-07, 2.1052632e-07], dtype=float32),\n",
       " 'volume_fields': array([[ 9.7717609e+00, -4.0106881e-02,  2.2000723e-01,  8.7038575e-07,\n",
       "          1.0315843e-02],\n",
       "        [ 9.7718639e+00, -3.7241671e-02,  2.0352592e-01,  9.6492943e-07,\n",
       "          1.0343050e-02],\n",
       "        [ 9.7719946e+00, -6.1963771e-02,  1.8157260e-01,  1.0662529e-06,\n",
       "          9.2541045e-03],\n",
       "        ...,\n",
       "        [ 9.8836966e+00,  1.3268093e-04,  4.4300100e-03, -6.9977182e-07,\n",
       "         -2.3777982e-06],\n",
       "        [ 9.8834238e+00,  2.6593631e-04,  4.4120806e-03, -3.7450451e-07,\n",
       "         -2.6059397e-06],\n",
       "        [ 9.8834486e+00,  1.3193910e-04,  4.4123973e-03, -3.6366339e-07,\n",
       "         -2.5663285e-06]], dtype=float32),\n",
       " 'volume_mesh_centers': array([[9.30896460e-21, 9.79623646e-02, 2.10526327e-04],\n",
       "        [1.17913554e-20, 9.79523286e-02, 0.00000000e+00],\n",
       "        [1.98248005e-03, 9.79612917e-02, 0.00000000e+00],\n",
       "        ...,\n",
       "        [5.00000000e-01, 2.00000009e-03, 1.99999996e-02],\n",
       "        [4.97999996e-01, 0.00000000e+00, 1.99999996e-02],\n",
       "        [5.00000000e-01, 0.00000000e+00, 1.99999996e-02]], dtype=float32),\n",
       " 'surface_fields': array([[-9.61614191e-04,  2.65692294e-01,  0.00000000e+00,\n",
       "          1.02684833e-03,  2.21581956e-07,  0.00000000e+00],\n",
       "        [-9.61614191e-04,  2.65692294e-01,  0.00000000e+00,\n",
       "          1.02684833e-03,  2.21581956e-07,  0.00000000e+00],\n",
       "        [-2.36952002e-03,  2.65696555e-01,  0.00000000e+00,\n",
       "          8.02348659e-04,  1.14399576e-07,  1.24589456e-12],\n",
       "        ...,\n",
       "        [ 1.08586128e-05,  2.68715620e-01,  0.00000000e+00,\n",
       "          0.00000000e+00,  0.00000000e+00,  0.00000000e+00],\n",
       "        [ 3.57722865e-06,  2.68716812e-01,  0.00000000e+00,\n",
       "          0.00000000e+00,  0.00000000e+00,  0.00000000e+00],\n",
       "        [ 3.57722865e-06,  2.68716812e-01,  0.00000000e+00,\n",
       "          0.00000000e+00,  0.00000000e+00,  0.00000000e+00]], dtype=float32),\n",
       " 'filename': PosixPath('/workspace/physicsnemo/domino/data/volume/volume_design_0125003_p.cgns'),\n",
       " 'global_params_values': array([30.   ,  1.226], dtype=float32),\n",
       " 'global_params_reference': array([30.   ,  1.226], dtype=float32)}"
      ]
     },
     "execution_count": 13,
     "metadata": {},
     "output_type": "execute_result"
    }
   ],
   "source": [
    "ds[0]"
   ]
  }
 ],
 "metadata": {
  "kernelspec": {
   "display_name": "Python 3",
   "language": "python",
   "name": "python3"
  },
  "language_info": {
   "codemirror_mode": {
    "name": "ipython",
    "version": 3
   },
   "file_extension": ".py",
   "mimetype": "text/x-python",
   "name": "python",
   "nbconvert_exporter": "python",
   "pygments_lexer": "ipython3",
   "version": "3.12.3"
  }
 },
 "nbformat": 4,
 "nbformat_minor": 5
}
